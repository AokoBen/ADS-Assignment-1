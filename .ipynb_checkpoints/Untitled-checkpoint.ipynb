{
 "cells": [
  {
   "cell_type": "code",
   "execution_count": 2,
   "id": "e91dcb5f",
   "metadata": {},
   "outputs": [
    {
     "data": {
      "text/plain": [
       "['$team', '$points', '$assists', '$rebounds']"
      ]
     },
     "execution_count": 2,
     "metadata": {},
     "output_type": "execute_result"
    }
   ],
   "source": [
    "import pandas as pd\n",
    "\n",
    "#define DataFrame\n",
    "df = pd.DataFrame({'$team':['A', 'A', 'A', 'A', 'B', 'B', 'B', 'B'],\n",
    "                   '$points': [25, 12, 15, 14, 19, 23, 25, 29],\n",
    "                   '$assists': [5, 7, 7, 9, 12, 9, 9, 4],\n",
    "                   '$rebounds': [11, 8, 10, 6, 6, 5, 9, 12]})\n",
    "\n",
    "#list column names\n",
    "list(df)\n",
    "\n",
    "# ['team', 'points', 'assists', 'rebounds']\n",
    "\n",
    "#rename $ with blank in every column name\n",
    "# df.columns = df.columns.str.replace('$', '')\n",
    "\n",
    "#view updated list of column names\n",
    "# list(df)\n",
    "\n",
    "# ['team', 'points', 'assists', 'rebounds']"
   ]
  },
  {
   "cell_type": "code",
   "execution_count": 3,
   "id": "0e79991f",
   "metadata": {},
   "outputs": [
    {
     "name": "stderr",
     "output_type": "stream",
     "text": [
      "C:\\Users\\LENOVO\\AppData\\Local\\Temp\\ipykernel_6332\\3859947043.py:2: FutureWarning: The default value of regex will change from True to False in a future version. In addition, single character regular expressions will *not* be treated as literal strings when regex=True.\n",
      "  df.columns = df.columns.str.replace('$', '')\n"
     ]
    }
   ],
   "source": [
    "#rename $ with blank in every column name\n",
    "df.columns = df.columns.str.replace('$', '')\n",
    "\n"
   ]
  },
  {
   "cell_type": "code",
   "execution_count": 4,
   "id": "b10de6dd",
   "metadata": {},
   "outputs": [
    {
     "data": {
      "text/plain": [
       "['team', 'points', 'assists', 'rebounds']"
      ]
     },
     "execution_count": 4,
     "metadata": {},
     "output_type": "execute_result"
    }
   ],
   "source": [
    "#view updated list of column names\n",
    "list(df)\n",
    "\n",
    "# ['team', 'points', 'assists', 'rebounds']"
   ]
  },
  {
   "cell_type": "code",
   "execution_count": 5,
   "id": "92da60ef",
   "metadata": {},
   "outputs": [],
   "source": [
    "alumni = pd.read_csv('alumni.csv')"
   ]
  },
  {
   "cell_type": "code",
   "execution_count": 6,
   "id": "4a58edaf",
   "metadata": {},
   "outputs": [
    {
     "data": {
      "text/html": [
       "<div>\n",
       "<style scoped>\n",
       "    .dataframe tbody tr th:only-of-type {\n",
       "        vertical-align: middle;\n",
       "    }\n",
       "\n",
       "    .dataframe tbody tr th {\n",
       "        vertical-align: top;\n",
       "    }\n",
       "\n",
       "    .dataframe thead th {\n",
       "        text-align: right;\n",
       "    }\n",
       "</style>\n",
       "<table border=\"1\" class=\"dataframe\">\n",
       "  <thead>\n",
       "    <tr style=\"text-align: right;\">\n",
       "      <th></th>\n",
       "      <th>Year Graduated</th>\n",
       "      <th>Gender</th>\n",
       "      <th>Marital Status</th>\n",
       "      <th>Diploma Type</th>\n",
       "      <th>Defaulted</th>\n",
       "      <th>Salary</th>\n",
       "      <th>Fee</th>\n",
       "      <th>Savings ($)</th>\n",
       "    </tr>\n",
       "  </thead>\n",
       "  <tbody>\n",
       "    <tr>\n",
       "      <th>0</th>\n",
       "      <td>2004</td>\n",
       "      <td>Male</td>\n",
       "      <td>Single</td>\n",
       "      <td>Standard Diploma</td>\n",
       "      <td>Yes</td>\n",
       "      <td>125000</td>\n",
       "      <td>10869</td>\n",
       "      <td>$86,000</td>\n",
       "    </tr>\n",
       "    <tr>\n",
       "      <th>1</th>\n",
       "      <td>2005</td>\n",
       "      <td>Male</td>\n",
       "      <td>Married</td>\n",
       "      <td>College Prep Diploma</td>\n",
       "      <td>No</td>\n",
       "      <td>100000</td>\n",
       "      <td>10869</td>\n",
       "      <td>$116,000</td>\n",
       "    </tr>\n",
       "    <tr>\n",
       "      <th>2</th>\n",
       "      <td>2006</td>\n",
       "      <td>Female</td>\n",
       "      <td>Single</td>\n",
       "      <td>Standard Diploma</td>\n",
       "      <td>Yes</td>\n",
       "      <td>70000</td>\n",
       "      <td>10869</td>\n",
       "      <td>$52,000</td>\n",
       "    </tr>\n",
       "    <tr>\n",
       "      <th>3</th>\n",
       "      <td>2007</td>\n",
       "      <td>Male</td>\n",
       "      <td>Married</td>\n",
       "      <td>Standard Diploma</td>\n",
       "      <td>No</td>\n",
       "      <td>120000</td>\n",
       "      <td>10869</td>\n",
       "      <td>$76,000</td>\n",
       "    </tr>\n",
       "    <tr>\n",
       "      <th>4</th>\n",
       "      <td>2006</td>\n",
       "      <td>Female</td>\n",
       "      <td>Divorced</td>\n",
       "      <td>Standard Diploma</td>\n",
       "      <td>Yes</td>\n",
       "      <td>95000</td>\n",
       "      <td>11948</td>\n",
       "      <td>$52,000</td>\n",
       "    </tr>\n",
       "    <tr>\n",
       "      <th>...</th>\n",
       "      <td>...</td>\n",
       "      <td>...</td>\n",
       "      <td>...</td>\n",
       "      <td>...</td>\n",
       "      <td>...</td>\n",
       "      <td>...</td>\n",
       "      <td>...</td>\n",
       "      <td>...</td>\n",
       "    </tr>\n",
       "    <tr>\n",
       "      <th>83</th>\n",
       "      <td>2007</td>\n",
       "      <td>Male</td>\n",
       "      <td>Single</td>\n",
       "      <td>Standard Diploma</td>\n",
       "      <td>No</td>\n",
       "      <td>75000</td>\n",
       "      <td>12066</td>\n",
       "      <td>$16,000</td>\n",
       "    </tr>\n",
       "    <tr>\n",
       "      <th>84</th>\n",
       "      <td>2008</td>\n",
       "      <td>M</td>\n",
       "      <td>Single</td>\n",
       "      <td>College Prep Diploma</td>\n",
       "      <td>Yes</td>\n",
       "      <td>65000</td>\n",
       "      <td>12066</td>\n",
       "      <td>$72,000</td>\n",
       "    </tr>\n",
       "    <tr>\n",
       "      <th>85</th>\n",
       "      <td>2009</td>\n",
       "      <td>Male</td>\n",
       "      <td>Married</td>\n",
       "      <td>Standard Diploma</td>\n",
       "      <td>No</td>\n",
       "      <td>75000</td>\n",
       "      <td>12066</td>\n",
       "      <td>$46,000</td>\n",
       "    </tr>\n",
       "    <tr>\n",
       "      <th>86</th>\n",
       "      <td>2005</td>\n",
       "      <td>Female</td>\n",
       "      <td>Divorced</td>\n",
       "      <td>Standard Diploma</td>\n",
       "      <td>Yes</td>\n",
       "      <td>100000</td>\n",
       "      <td>12067</td>\n",
       "      <td>$32,000</td>\n",
       "    </tr>\n",
       "    <tr>\n",
       "      <th>87</th>\n",
       "      <td>2006</td>\n",
       "      <td>Male</td>\n",
       "      <td>Married</td>\n",
       "      <td>Standard Diploma</td>\n",
       "      <td>Yes</td>\n",
       "      <td>75000</td>\n",
       "      <td>12067</td>\n",
       "      <td>$67,000</td>\n",
       "    </tr>\n",
       "  </tbody>\n",
       "</table>\n",
       "<p>88 rows × 8 columns</p>\n",
       "</div>"
      ],
      "text/plain": [
       "    Year Graduated  Gender Marital Status          Diploma Type Defaulted  \\\n",
       "0             2004    Male         Single      Standard Diploma       Yes   \n",
       "1             2005    Male        Married  College Prep Diploma        No   \n",
       "2             2006  Female         Single      Standard Diploma       Yes   \n",
       "3             2007    Male        Married      Standard Diploma        No   \n",
       "4             2006  Female       Divorced      Standard Diploma       Yes   \n",
       "..             ...     ...            ...                   ...       ...   \n",
       "83            2007    Male         Single      Standard Diploma        No   \n",
       "84            2008       M         Single  College Prep Diploma       Yes   \n",
       "85            2009    Male        Married      Standard Diploma        No   \n",
       "86            2005  Female       Divorced      Standard Diploma       Yes   \n",
       "87            2006    Male        Married      Standard Diploma       Yes   \n",
       "\n",
       "    Salary    Fee Savings ($)  \n",
       "0   125000  10869     $86,000  \n",
       "1   100000  10869    $116,000  \n",
       "2    70000  10869     $52,000  \n",
       "3   120000  10869     $76,000  \n",
       "4    95000  11948     $52,000  \n",
       "..     ...    ...         ...  \n",
       "83   75000  12066     $16,000  \n",
       "84   65000  12066     $72,000  \n",
       "85   75000  12066     $46,000  \n",
       "86  100000  12067     $32,000  \n",
       "87   75000  12067     $67,000  \n",
       "\n",
       "[88 rows x 8 columns]"
      ]
     },
     "execution_count": 6,
     "metadata": {},
     "output_type": "execute_result"
    }
   ],
   "source": [
    "alumni"
   ]
  },
  {
   "cell_type": "code",
   "execution_count": 25,
   "id": "e2c6d395",
   "metadata": {},
   "outputs": [],
   "source": [
    "#rename specific column names\n",
    "alumni.rename(columns = {'Savings($)':'Savings'}, inplace = True)\n",
    "#alumni"
   ]
  },
  {
   "cell_type": "code",
   "execution_count": 38,
   "id": "a381689c",
   "metadata": {},
   "outputs": [
    {
     "name": "stderr",
     "output_type": "stream",
     "text": [
      "C:\\Users\\LENOVO\\AppData\\Local\\Temp\\ipykernel_6332\\246290575.py:1: FutureWarning: The default value of regex will change from True to False in a future version.\n",
      "  alumni.columns = alumni.columns.str.replace('Savings($)','Savings')\n"
     ]
    },
    {
     "data": {
      "text/html": [
       "<div>\n",
       "<style scoped>\n",
       "    .dataframe tbody tr th:only-of-type {\n",
       "        vertical-align: middle;\n",
       "    }\n",
       "\n",
       "    .dataframe tbody tr th {\n",
       "        vertical-align: top;\n",
       "    }\n",
       "\n",
       "    .dataframe thead th {\n",
       "        text-align: right;\n",
       "    }\n",
       "</style>\n",
       "<table border=\"1\" class=\"dataframe\">\n",
       "  <thead>\n",
       "    <tr style=\"text-align: right;\">\n",
       "      <th></th>\n",
       "      <th>Year Graduated</th>\n",
       "      <th>Gender</th>\n",
       "      <th>Marital Status</th>\n",
       "      <th>Diploma Type</th>\n",
       "      <th>Defaulted</th>\n",
       "      <th>Salary</th>\n",
       "      <th>Fee</th>\n",
       "      <th>Savings ()</th>\n",
       "    </tr>\n",
       "  </thead>\n",
       "  <tbody>\n",
       "    <tr>\n",
       "      <th>0</th>\n",
       "      <td>2004</td>\n",
       "      <td>Male</td>\n",
       "      <td>Single</td>\n",
       "      <td>Standard Diploma</td>\n",
       "      <td>Yes</td>\n",
       "      <td>125000</td>\n",
       "      <td>10869</td>\n",
       "      <td>$86,000</td>\n",
       "    </tr>\n",
       "    <tr>\n",
       "      <th>1</th>\n",
       "      <td>2005</td>\n",
       "      <td>Male</td>\n",
       "      <td>Married</td>\n",
       "      <td>College Prep Diploma</td>\n",
       "      <td>No</td>\n",
       "      <td>100000</td>\n",
       "      <td>10869</td>\n",
       "      <td>$116,000</td>\n",
       "    </tr>\n",
       "    <tr>\n",
       "      <th>2</th>\n",
       "      <td>2006</td>\n",
       "      <td>Female</td>\n",
       "      <td>Single</td>\n",
       "      <td>Standard Diploma</td>\n",
       "      <td>Yes</td>\n",
       "      <td>70000</td>\n",
       "      <td>10869</td>\n",
       "      <td>$52,000</td>\n",
       "    </tr>\n",
       "    <tr>\n",
       "      <th>3</th>\n",
       "      <td>2007</td>\n",
       "      <td>Male</td>\n",
       "      <td>Married</td>\n",
       "      <td>Standard Diploma</td>\n",
       "      <td>No</td>\n",
       "      <td>120000</td>\n",
       "      <td>10869</td>\n",
       "      <td>$76,000</td>\n",
       "    </tr>\n",
       "    <tr>\n",
       "      <th>4</th>\n",
       "      <td>2006</td>\n",
       "      <td>Female</td>\n",
       "      <td>Divorced</td>\n",
       "      <td>Standard Diploma</td>\n",
       "      <td>Yes</td>\n",
       "      <td>95000</td>\n",
       "      <td>11948</td>\n",
       "      <td>$52,000</td>\n",
       "    </tr>\n",
       "    <tr>\n",
       "      <th>...</th>\n",
       "      <td>...</td>\n",
       "      <td>...</td>\n",
       "      <td>...</td>\n",
       "      <td>...</td>\n",
       "      <td>...</td>\n",
       "      <td>...</td>\n",
       "      <td>...</td>\n",
       "      <td>...</td>\n",
       "    </tr>\n",
       "    <tr>\n",
       "      <th>83</th>\n",
       "      <td>2007</td>\n",
       "      <td>Male</td>\n",
       "      <td>Single</td>\n",
       "      <td>Standard Diploma</td>\n",
       "      <td>No</td>\n",
       "      <td>75000</td>\n",
       "      <td>12066</td>\n",
       "      <td>$16,000</td>\n",
       "    </tr>\n",
       "    <tr>\n",
       "      <th>84</th>\n",
       "      <td>2008</td>\n",
       "      <td>M</td>\n",
       "      <td>Single</td>\n",
       "      <td>College Prep Diploma</td>\n",
       "      <td>Yes</td>\n",
       "      <td>65000</td>\n",
       "      <td>12066</td>\n",
       "      <td>$72,000</td>\n",
       "    </tr>\n",
       "    <tr>\n",
       "      <th>85</th>\n",
       "      <td>2009</td>\n",
       "      <td>Male</td>\n",
       "      <td>Married</td>\n",
       "      <td>Standard Diploma</td>\n",
       "      <td>No</td>\n",
       "      <td>75000</td>\n",
       "      <td>12066</td>\n",
       "      <td>$46,000</td>\n",
       "    </tr>\n",
       "    <tr>\n",
       "      <th>86</th>\n",
       "      <td>2005</td>\n",
       "      <td>Female</td>\n",
       "      <td>Divorced</td>\n",
       "      <td>Standard Diploma</td>\n",
       "      <td>Yes</td>\n",
       "      <td>100000</td>\n",
       "      <td>12067</td>\n",
       "      <td>$32,000</td>\n",
       "    </tr>\n",
       "    <tr>\n",
       "      <th>87</th>\n",
       "      <td>2006</td>\n",
       "      <td>Male</td>\n",
       "      <td>Married</td>\n",
       "      <td>Standard Diploma</td>\n",
       "      <td>Yes</td>\n",
       "      <td>75000</td>\n",
       "      <td>12067</td>\n",
       "      <td>$67,000</td>\n",
       "    </tr>\n",
       "  </tbody>\n",
       "</table>\n",
       "<p>88 rows × 8 columns</p>\n",
       "</div>"
      ],
      "text/plain": [
       "    Year Graduated  Gender Marital Status          Diploma Type Defaulted  \\\n",
       "0             2004    Male         Single      Standard Diploma       Yes   \n",
       "1             2005    Male        Married  College Prep Diploma        No   \n",
       "2             2006  Female         Single      Standard Diploma       Yes   \n",
       "3             2007    Male        Married      Standard Diploma        No   \n",
       "4             2006  Female       Divorced      Standard Diploma       Yes   \n",
       "..             ...     ...            ...                   ...       ...   \n",
       "83            2007    Male         Single      Standard Diploma        No   \n",
       "84            2008       M         Single  College Prep Diploma       Yes   \n",
       "85            2009    Male        Married      Standard Diploma        No   \n",
       "86            2005  Female       Divorced      Standard Diploma       Yes   \n",
       "87            2006    Male        Married      Standard Diploma       Yes   \n",
       "\n",
       "    Salary    Fee Savings ()  \n",
       "0   125000  10869    $86,000  \n",
       "1   100000  10869   $116,000  \n",
       "2    70000  10869    $52,000  \n",
       "3   120000  10869    $76,000  \n",
       "4    95000  11948    $52,000  \n",
       "..     ...    ...        ...  \n",
       "83   75000  12066    $16,000  \n",
       "84   65000  12066    $72,000  \n",
       "85   75000  12066    $46,000  \n",
       "86  100000  12067    $32,000  \n",
       "87   75000  12067    $67,000  \n",
       "\n",
       "[88 rows x 8 columns]"
      ]
     },
     "execution_count": 38,
     "metadata": {},
     "output_type": "execute_result"
    }
   ],
   "source": [
    "alumni.columns = alumni.columns.str.replace('Savings($)','Savings')\n",
    "alumni"
   ]
  },
  {
   "cell_type": "code",
   "execution_count": 39,
   "id": "b6c57668",
   "metadata": {},
   "outputs": [
    {
     "name": "stderr",
     "output_type": "stream",
     "text": [
      "C:\\Users\\LENOVO\\AppData\\Local\\Temp\\ipykernel_6332\\2942330430.py:1: FutureWarning: The default value of regex will change from True to False in a future version.\n",
      "  alumni.columns = alumni.columns.str.replace('($)', '')\n"
     ]
    }
   ],
   "source": [
    "\n",
    "alumni.columns = alumni.columns.str.replace('($)', '')\n",
    "#alumni"
   ]
  },
  {
   "cell_type": "markdown",
   "id": "7c98c106",
   "metadata": {},
   "source": [
    "def clean_currency(x):\n",
    "\n",
    "    \"\"\" If the value is a string, then remove currency symbol and delimiters\n",
    "    otherwise, the value is numeric and can be converted\n",
    "    \"\"\"\n",
    "    \n",
    "    if isinstance(x, str):\n",
    "        return(x.replace('$', '').replace(',', ''))\n",
    "        \n",
    "    return(x)"
   ]
  },
  {
   "cell_type": "code",
   "execution_count": 14,
   "id": "33c453b1",
   "metadata": {},
   "outputs": [
    {
     "ename": "NameError",
     "evalue": "name 'x' is not defined",
     "output_type": "error",
     "traceback": [
      "\u001b[1;31m---------------------------------------------------------------------------\u001b[0m",
      "\u001b[1;31mNameError\u001b[0m                                 Traceback (most recent call last)",
      "Input \u001b[1;32mIn [14]\u001b[0m, in \u001b[0;36m<cell line: 5>\u001b[1;34m()\u001b[0m\n\u001b[0;32m      2\u001b[0m     \u001b[38;5;28;01mif\u001b[39;00m \u001b[38;5;28misinstance\u001b[39m(x, \u001b[38;5;28mstr\u001b[39m):\n\u001b[0;32m      3\u001b[0m         \u001b[38;5;28;01mreturn\u001b[39;00m \u001b[38;5;28mfloat\u001b[39m(curr\u001b[38;5;241m.\u001b[39mreplace(\u001b[38;5;124m\"\u001b[39m\u001b[38;5;124m,\u001b[39m\u001b[38;5;124m\"\u001b[39m, \u001b[38;5;124m\"\u001b[39m\u001b[38;5;124m\"\u001b[39m)\u001b[38;5;241m.\u001b[39mreplace(\u001b[38;5;124m\"\u001b[39m\u001b[38;5;124m$\u001b[39m\u001b[38;5;124m\"\u001b[39m, \u001b[38;5;124m\"\u001b[39m\u001b[38;5;124m\"\u001b[39m))\n\u001b[1;32m----> 5\u001b[0m \u001b[43mclean_currency\u001b[49m\u001b[43m(\u001b[49m\u001b[38;5;124;43m\"\u001b[39;49m\u001b[38;5;124;43m$66,000\u001b[39;49m\u001b[38;5;124;43m\"\u001b[39;49m\u001b[43m)\u001b[49m\n",
      "Input \u001b[1;32mIn [14]\u001b[0m, in \u001b[0;36mclean_currency\u001b[1;34m(curr)\u001b[0m\n\u001b[0;32m      1\u001b[0m \u001b[38;5;28;01mdef\u001b[39;00m \u001b[38;5;21mclean_currency\u001b[39m(curr):\n\u001b[1;32m----> 2\u001b[0m     \u001b[38;5;28;01mif\u001b[39;00m \u001b[38;5;28misinstance\u001b[39m(\u001b[43mx\u001b[49m, \u001b[38;5;28mstr\u001b[39m):\n\u001b[0;32m      3\u001b[0m         \u001b[38;5;28;01mreturn\u001b[39;00m \u001b[38;5;28mfloat\u001b[39m(curr\u001b[38;5;241m.\u001b[39mreplace(\u001b[38;5;124m\"\u001b[39m\u001b[38;5;124m,\u001b[39m\u001b[38;5;124m\"\u001b[39m, \u001b[38;5;124m\"\u001b[39m\u001b[38;5;124m\"\u001b[39m)\u001b[38;5;241m.\u001b[39mreplace(\u001b[38;5;124m\"\u001b[39m\u001b[38;5;124m$\u001b[39m\u001b[38;5;124m\"\u001b[39m, \u001b[38;5;124m\"\u001b[39m\u001b[38;5;124m\"\u001b[39m))\n",
      "\u001b[1;31mNameError\u001b[0m: name 'x' is not defined"
     ]
    }
   ],
   "source": [
    "def clean_currency(curr):\n",
    "    if isinstance(x, str):\n",
    "        return float(curr.replace(\",\", \"\").replace(\"$\", \"\"))\n",
    "\n",
    "clean_currency(\"$66,000\")"
   ]
  },
  {
   "cell_type": "code",
   "execution_count": 15,
   "id": "6a2d74d2",
   "metadata": {},
   "outputs": [],
   "source": [
    "def clean_currency(curr):\n",
    "    if isinstance(curr, str):\n",
    "        return float(curr.replace(\",\", \"\").replace(\"$\", \"\"))\n",
    "    return curr.str.replace(\",\", \"\").str.replace(\"$\", \"\").astype(float)"
   ]
  },
  {
   "cell_type": "code",
   "execution_count": 17,
   "id": "b82a8653",
   "metadata": {},
   "outputs": [
    {
     "data": {
      "text/plain": [
       "86000.0"
      ]
     },
     "execution_count": 17,
     "metadata": {},
     "output_type": "execute_result"
    }
   ],
   "source": [
    "clean_currency('$86,000')"
   ]
  },
  {
   "cell_type": "code",
   "execution_count": 20,
   "id": "5ff0cfb7",
   "metadata": {},
   "outputs": [
    {
     "ename": "AttributeError",
     "evalue": "'DataFrame' object has no attribute 'Savings'",
     "output_type": "error",
     "traceback": [
      "\u001b[1;31m---------------------------------------------------------------------------\u001b[0m",
      "\u001b[1;31mAttributeError\u001b[0m                            Traceback (most recent call last)",
      "Input \u001b[1;32mIn [20]\u001b[0m, in \u001b[0;36m<cell line: 1>\u001b[1;34m()\u001b[0m\n\u001b[1;32m----> 1\u001b[0m clean_currency(\u001b[43malumni\u001b[49m\u001b[38;5;241;43m.\u001b[39;49m\u001b[43mSavings\u001b[49m)\n",
      "File \u001b[1;32m~\\anaconda3\\lib\\site-packages\\pandas\\core\\generic.py:5575\u001b[0m, in \u001b[0;36mNDFrame.__getattr__\u001b[1;34m(self, name)\u001b[0m\n\u001b[0;32m   5568\u001b[0m \u001b[38;5;28;01mif\u001b[39;00m (\n\u001b[0;32m   5569\u001b[0m     name \u001b[38;5;129;01mnot\u001b[39;00m \u001b[38;5;129;01min\u001b[39;00m \u001b[38;5;28mself\u001b[39m\u001b[38;5;241m.\u001b[39m_internal_names_set\n\u001b[0;32m   5570\u001b[0m     \u001b[38;5;129;01mand\u001b[39;00m name \u001b[38;5;129;01mnot\u001b[39;00m \u001b[38;5;129;01min\u001b[39;00m \u001b[38;5;28mself\u001b[39m\u001b[38;5;241m.\u001b[39m_metadata\n\u001b[0;32m   5571\u001b[0m     \u001b[38;5;129;01mand\u001b[39;00m name \u001b[38;5;129;01mnot\u001b[39;00m \u001b[38;5;129;01min\u001b[39;00m \u001b[38;5;28mself\u001b[39m\u001b[38;5;241m.\u001b[39m_accessors\n\u001b[0;32m   5572\u001b[0m     \u001b[38;5;129;01mand\u001b[39;00m \u001b[38;5;28mself\u001b[39m\u001b[38;5;241m.\u001b[39m_info_axis\u001b[38;5;241m.\u001b[39m_can_hold_identifiers_and_holds_name(name)\n\u001b[0;32m   5573\u001b[0m ):\n\u001b[0;32m   5574\u001b[0m     \u001b[38;5;28;01mreturn\u001b[39;00m \u001b[38;5;28mself\u001b[39m[name]\n\u001b[1;32m-> 5575\u001b[0m \u001b[38;5;28;01mreturn\u001b[39;00m \u001b[38;5;28;43mobject\u001b[39;49m\u001b[38;5;241;43m.\u001b[39;49m\u001b[38;5;21;43m__getattribute__\u001b[39;49m\u001b[43m(\u001b[49m\u001b[38;5;28;43mself\u001b[39;49m\u001b[43m,\u001b[49m\u001b[43m \u001b[49m\u001b[43mname\u001b[49m\u001b[43m)\u001b[49m\n",
      "\u001b[1;31mAttributeError\u001b[0m: 'DataFrame' object has no attribute 'Savings'"
     ]
    }
   ],
   "source": [
    "clean_currency(alumni.Savings)"
   ]
  },
  {
   "cell_type": "code",
   "execution_count": 18,
   "id": "db52ca05",
   "metadata": {},
   "outputs": [
    {
     "ename": "SyntaxError",
     "evalue": "invalid syntax (1597032656.py, line 1)",
     "output_type": "error",
     "traceback": [
      "\u001b[1;36m  Input \u001b[1;32mIn [18]\u001b[1;36m\u001b[0m\n\u001b[1;33m    def clean_currency(Savings ($)):\u001b[0m\n\u001b[1;37m                               ^\u001b[0m\n\u001b[1;31mSyntaxError\u001b[0m\u001b[1;31m:\u001b[0m invalid syntax\n"
     ]
    }
   ],
   "source": [
    "def clean_currency(Savings$):\n",
    "    if isinstance(Savings ($), str):\n",
    "        return float(Savings ($).replace(\",\", \"\").replace(\"$\", \"\"))\n",
    "    return Savings ($).str.replace(\",\", \"\").str.replace(\"$\", \"\").astype(float)\n"
   ]
  },
  {
   "cell_type": "code",
   "execution_count": null,
   "id": "8de3ac9b",
   "metadata": {},
   "outputs": [],
   "source": []
  }
 ],
 "metadata": {
  "kernelspec": {
   "display_name": "Python 3 (ipykernel)",
   "language": "python",
   "name": "python3"
  },
  "language_info": {
   "codemirror_mode": {
    "name": "ipython",
    "version": 3
   },
   "file_extension": ".py",
   "mimetype": "text/x-python",
   "name": "python",
   "nbconvert_exporter": "python",
   "pygments_lexer": "ipython3",
   "version": "3.9.12"
  }
 },
 "nbformat": 4,
 "nbformat_minor": 5
}
